{
 "cells": [
  {
   "cell_type": "markdown",
   "id": "fc66c631-892e-43df-99e5-9910a35c2ee7",
   "metadata": {},
   "source": [
    "# Quetion :- 1"
   ]
  },
  {
   "cell_type": "code",
   "execution_count": 10,
   "id": "8d48a3eb-100c-40e4-a2bf-55ef09a17081",
   "metadata": {},
   "outputs": [
    {
     "name": "stdout",
     "output_type": "stream",
     "text": [
      "[('Virat Kohli', 24936), ('Jack Kallis', 25534), ('Ricky Ponting', 27483), ('Sachin Tendulkar', 34357)]\n"
     ]
    }
   ],
   "source": [
    "l=[('Sachin Tendulkar', 34357), ('Ricky Ponting', 27483), ('Jack Kallis', 25534), ('Virat Kohli', 24936)]\n",
    "\n",
    "def sort_tuple(tuple_list):\n",
    "    return sorted(tuple_list, key=lambda x: x[1])\n",
    "\n",
    "\n",
    "tuple_list = l\n",
    "print(sort_tuple(tuple_list))"
   ]
  },
  {
   "cell_type": "markdown",
   "id": "7a9cbed0-1f0e-4310-a4dc-1c069d468ba7",
   "metadata": {},
   "source": [
    "# Quetion :- 2"
   ]
  },
  {
   "cell_type": "code",
   "execution_count": 13,
   "id": "b673af36-f9a9-451d-a1c0-d40dfaf0a98f",
   "metadata": {},
   "outputs": [
    {
     "name": "stdout",
     "output_type": "stream",
     "text": [
      "[1, 4, 9, 16, 25, 36, 49, 64, 81, 100]\n"
     ]
    }
   ],
   "source": [
    "l1=[1, 2, 3, 4, 5, 6, 7, 8, 9, 10]\n",
    "sqrtl=list(map(lambda x : x**2,l1))\n",
    "print(sqrtl)\n",
    "\n"
   ]
  },
  {
   "cell_type": "markdown",
   "id": "8c0fb8b9-a188-4933-b87a-71bc55db54c9",
   "metadata": {},
   "source": [
    "# Quetion :-3"
   ]
  },
  {
   "cell_type": "code",
   "execution_count": 19,
   "id": "518c8427-ef59-4380-9b9d-618bb0aef9d5",
   "metadata": {},
   "outputs": [
    {
     "name": "stdout",
     "output_type": "stream",
     "text": [
      "('1', '2', '3', '4', '5', '6', '7', '8', '9', '10')\n"
     ]
    }
   ],
   "source": [
    "l2=[1, 2, 3, 4, 5, 6, 7, 8, 9, 10]\n",
    "tupleFlist=tuple(map(lambda x : str(x),l2))\n",
    "print(tupleFlist)"
   ]
  },
  {
   "cell_type": "markdown",
   "id": "910bb437-e02f-4501-8696-605ff1dae653",
   "metadata": {},
   "source": [
    "# Quetion :-4"
   ]
  },
  {
   "cell_type": "code",
   "execution_count": 25,
   "id": "1722096b-1f97-4249-b855-39b5056313fa",
   "metadata": {},
   "outputs": [
    {
     "name": "stdout",
     "output_type": "stream",
     "text": [
      "product of 1 to 25 number is  15511210043330985984000000\n"
     ]
    }
   ],
   "source": [
    "from functools import reduce\n",
    "l3=[]\n",
    "for i in range(1,26):\n",
    "    l3.append(i)\n",
    "a=reduce (lambda x,y : x*y,l3)\n",
    "print(\"product of 1 to 25 number is \",a)"
   ]
  },
  {
   "cell_type": "markdown",
   "id": "e196689b-ff52-46fd-83ca-0d3b482d56d0",
   "metadata": {},
   "source": [
    "# Quetion :-5"
   ]
  },
  {
   "cell_type": "code",
   "execution_count": 30,
   "id": "1ff3fd60-b409-4f42-a6dd-5150a1954a44",
   "metadata": {},
   "outputs": [
    {
     "name": "stdout",
     "output_type": "stream",
     "text": [
      "[6, 60, 90, 120]\n"
     ]
    }
   ],
   "source": [
    "l4=[2, 3, 6, 9, 27, 60, 90, 120, 55, 46]\n",
    "b=list(filter(lambda x: x%2==0 and x%3==0,l4))\n",
    "print(b)      "
   ]
  },
  {
   "cell_type": "markdown",
   "id": "fdc8cb64-6712-4f1f-a954-d8abc2e53087",
   "metadata": {},
   "source": [
    "# Quetion :-6"
   ]
  },
  {
   "cell_type": "code",
   "execution_count": 39,
   "id": "b82c2860-8b49-4f9b-9edd-a5f88ee3a1fa",
   "metadata": {},
   "outputs": [
    {
     "name": "stdout",
     "output_type": "stream",
     "text": [
      "['php', 'aba', 'radar', 'level']\n"
     ]
    }
   ],
   "source": [
    "l5=['python', 'php', 'aba', 'radar', 'level']\n",
    "palindromes = list(filter(lambda x: x == x[::-1], l5))\n",
    "print(palindromes)\n",
    "        "
   ]
  },
  {
   "cell_type": "code",
   "execution_count": null,
   "id": "84ceb290-1622-4518-a1c2-5444fcc2ee26",
   "metadata": {},
   "outputs": [],
   "source": []
  }
 ],
 "metadata": {
  "kernelspec": {
   "display_name": "Python 3 (ipykernel)",
   "language": "python",
   "name": "python3"
  },
  "language_info": {
   "codemirror_mode": {
    "name": "ipython",
    "version": 3
   },
   "file_extension": ".py",
   "mimetype": "text/x-python",
   "name": "python",
   "nbconvert_exporter": "python",
   "pygments_lexer": "ipython3",
   "version": "3.10.8"
  }
 },
 "nbformat": 4,
 "nbformat_minor": 5
}
